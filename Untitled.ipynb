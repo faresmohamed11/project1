{
 "cells": [
  {
   "cell_type": "code",
   "execution_count": 8,
   "id": "4e13291a",
   "metadata": {},
   "outputs": [],
   "source": [
    "import pandas as pd\n",
    "import numpy as np\n",
    "import seaborn as sns\n",
    "import matplotlib.pyplot as plt\n"
   ]
  },
  {
   "cell_type": "markdown",
   "id": "d93a340b-4271-4098-8a67-8962bc7815a7",
   "metadata": {},
   "source": [
    "## load the data"
   ]
  },
  {
   "cell_type": "code",
   "execution_count": 9,
   "id": "cecc725b",
   "metadata": {},
   "outputs": [],
   "source": [
    "data=pd.read_csv('heart.csv')\n"
   ]
  },
  {
   "cell_type": "markdown",
   "id": "f4ed9e71-e158-4d35-9f3a-c0a08a12a079",
   "metadata": {},
   "source": [
    "## explore data"
   ]
  },
  {
   "cell_type": "code",
   "execution_count": 10,
   "id": "c00ef025-5799-4d8d-ac59-5a22e322d14f",
   "metadata": {},
   "outputs": [
    {
     "data": {
      "text/html": [
       "<div>\n",
       "<style scoped>\n",
       "    .dataframe tbody tr th:only-of-type {\n",
       "        vertical-align: middle;\n",
       "    }\n",
       "\n",
       "    .dataframe tbody tr th {\n",
       "        vertical-align: top;\n",
       "    }\n",
       "\n",
       "    .dataframe thead th {\n",
       "        text-align: right;\n",
       "    }\n",
       "</style>\n",
       "<table border=\"1\" class=\"dataframe\">\n",
       "  <thead>\n",
       "    <tr style=\"text-align: right;\">\n",
       "      <th></th>\n",
       "      <th>Age</th>\n",
       "      <th>Sex</th>\n",
       "      <th>ChestPainType</th>\n",
       "      <th>RestingBP</th>\n",
       "      <th>Cholesterol</th>\n",
       "      <th>FastingBS</th>\n",
       "      <th>RestingECG</th>\n",
       "      <th>MaxHR</th>\n",
       "      <th>ExerciseAngina</th>\n",
       "      <th>Oldpeak</th>\n",
       "      <th>ST_Slope</th>\n",
       "      <th>HeartDisease</th>\n",
       "    </tr>\n",
       "  </thead>\n",
       "  <tbody>\n",
       "    <tr>\n",
       "      <th>0</th>\n",
       "      <td>40</td>\n",
       "      <td>M</td>\n",
       "      <td>ATA</td>\n",
       "      <td>140.0</td>\n",
       "      <td>289.0</td>\n",
       "      <td>0</td>\n",
       "      <td>Normal</td>\n",
       "      <td>172.0</td>\n",
       "      <td>N</td>\n",
       "      <td>0.0</td>\n",
       "      <td>Up</td>\n",
       "      <td>0</td>\n",
       "    </tr>\n",
       "    <tr>\n",
       "      <th>1</th>\n",
       "      <td>49</td>\n",
       "      <td>F</td>\n",
       "      <td>NAP</td>\n",
       "      <td>160.0</td>\n",
       "      <td>180.0</td>\n",
       "      <td>0</td>\n",
       "      <td>Normal</td>\n",
       "      <td>156.0</td>\n",
       "      <td>N</td>\n",
       "      <td>1.0</td>\n",
       "      <td>Flat</td>\n",
       "      <td>1</td>\n",
       "    </tr>\n",
       "    <tr>\n",
       "      <th>2</th>\n",
       "      <td>37</td>\n",
       "      <td>M</td>\n",
       "      <td>ATA</td>\n",
       "      <td>130.0</td>\n",
       "      <td>283.0</td>\n",
       "      <td>0</td>\n",
       "      <td>ST</td>\n",
       "      <td>98.0</td>\n",
       "      <td>N</td>\n",
       "      <td>0.0</td>\n",
       "      <td>Up</td>\n",
       "      <td>0</td>\n",
       "    </tr>\n",
       "    <tr>\n",
       "      <th>3</th>\n",
       "      <td>48</td>\n",
       "      <td>F</td>\n",
       "      <td>ASY</td>\n",
       "      <td>138.0</td>\n",
       "      <td>214.0</td>\n",
       "      <td>0</td>\n",
       "      <td>Normal</td>\n",
       "      <td>108.0</td>\n",
       "      <td>Y</td>\n",
       "      <td>1.5</td>\n",
       "      <td>Flat</td>\n",
       "      <td>1</td>\n",
       "    </tr>\n",
       "    <tr>\n",
       "      <th>4</th>\n",
       "      <td>54</td>\n",
       "      <td>M</td>\n",
       "      <td>NAP</td>\n",
       "      <td>150.0</td>\n",
       "      <td>195.0</td>\n",
       "      <td>0</td>\n",
       "      <td>Normal</td>\n",
       "      <td>122.0</td>\n",
       "      <td>N</td>\n",
       "      <td>0.0</td>\n",
       "      <td>Up</td>\n",
       "      <td>0</td>\n",
       "    </tr>\n",
       "  </tbody>\n",
       "</table>\n",
       "</div>"
      ],
      "text/plain": [
       "   Age Sex ChestPainType  RestingBP  Cholesterol  FastingBS RestingECG  MaxHR  \\\n",
       "0   40   M           ATA      140.0        289.0          0     Normal  172.0   \n",
       "1   49   F           NAP      160.0        180.0          0     Normal  156.0   \n",
       "2   37   M           ATA      130.0        283.0          0         ST   98.0   \n",
       "3   48   F           ASY      138.0        214.0          0     Normal  108.0   \n",
       "4   54   M           NAP      150.0        195.0          0     Normal  122.0   \n",
       "\n",
       "  ExerciseAngina  Oldpeak ST_Slope  HeartDisease  \n",
       "0              N      0.0       Up             0  \n",
       "1              N      1.0     Flat             1  \n",
       "2              N      0.0       Up             0  \n",
       "3              Y      1.5     Flat             1  \n",
       "4              N      0.0       Up             0  "
      ]
     },
     "execution_count": 10,
     "metadata": {},
     "output_type": "execute_result"
    }
   ],
   "source": [
    "data.head()"
   ]
  },
  {
   "cell_type": "code",
   "execution_count": 11,
   "id": "4dfc2969-d364-492d-a13d-4f5904e95333",
   "metadata": {},
   "outputs": [
    {
     "data": {
      "text/plain": [
       "(920, 12)"
      ]
     },
     "execution_count": 11,
     "metadata": {},
     "output_type": "execute_result"
    }
   ],
   "source": [
    "data.shape"
   ]
  },
  {
   "cell_type": "code",
   "execution_count": 12,
   "id": "1587b6dc-0e4b-4b44-ac4c-1cf75476a250",
   "metadata": {},
   "outputs": [
    {
     "name": "stdout",
     "output_type": "stream",
     "text": [
      "<class 'pandas.core.frame.DataFrame'>\n",
      "RangeIndex: 920 entries, 0 to 919\n",
      "Data columns (total 12 columns):\n",
      " #   Column          Non-Null Count  Dtype  \n",
      "---  ------          --------------  -----  \n",
      " 0   Age             920 non-null    int64  \n",
      " 1   Sex             920 non-null    object \n",
      " 2   ChestPainType   920 non-null    object \n",
      " 3   RestingBP       919 non-null    float64\n",
      " 4   Cholesterol     918 non-null    float64\n",
      " 5   FastingBS       920 non-null    int64  \n",
      " 6   RestingECG      919 non-null    object \n",
      " 7   MaxHR           919 non-null    float64\n",
      " 8   ExerciseAngina  920 non-null    object \n",
      " 9   Oldpeak         920 non-null    float64\n",
      " 10  ST_Slope        918 non-null    object \n",
      " 11  HeartDisease    920 non-null    int64  \n",
      "dtypes: float64(4), int64(3), object(5)\n",
      "memory usage: 86.4+ KB\n"
     ]
    }
   ],
   "source": [
    "data.info()"
   ]
  },
  {
   "cell_type": "code",
   "execution_count": 13,
   "id": "3ee8374c-ff30-4f50-a9a8-8d8a735905e0",
   "metadata": {},
   "outputs": [
    {
     "data": {
      "text/html": [
       "<div>\n",
       "<style scoped>\n",
       "    .dataframe tbody tr th:only-of-type {\n",
       "        vertical-align: middle;\n",
       "    }\n",
       "\n",
       "    .dataframe tbody tr th {\n",
       "        vertical-align: top;\n",
       "    }\n",
       "\n",
       "    .dataframe thead th {\n",
       "        text-align: right;\n",
       "    }\n",
       "</style>\n",
       "<table border=\"1\" class=\"dataframe\">\n",
       "  <thead>\n",
       "    <tr style=\"text-align: right;\">\n",
       "      <th></th>\n",
       "      <th>Age</th>\n",
       "      <th>RestingBP</th>\n",
       "      <th>Cholesterol</th>\n",
       "      <th>FastingBS</th>\n",
       "      <th>MaxHR</th>\n",
       "      <th>Oldpeak</th>\n",
       "      <th>HeartDisease</th>\n",
       "    </tr>\n",
       "  </thead>\n",
       "  <tbody>\n",
       "    <tr>\n",
       "      <th>count</th>\n",
       "      <td>920.000000</td>\n",
       "      <td>919.000000</td>\n",
       "      <td>918.000000</td>\n",
       "      <td>920.000000</td>\n",
       "      <td>919.000000</td>\n",
       "      <td>920.000000</td>\n",
       "      <td>920.000000</td>\n",
       "    </tr>\n",
       "    <tr>\n",
       "      <th>mean</th>\n",
       "      <td>53.508696</td>\n",
       "      <td>132.393906</td>\n",
       "      <td>199.026144</td>\n",
       "      <td>0.232609</td>\n",
       "      <td>136.831338</td>\n",
       "      <td>0.886522</td>\n",
       "      <td>0.553261</td>\n",
       "    </tr>\n",
       "    <tr>\n",
       "      <th>std</th>\n",
       "      <td>9.422725</td>\n",
       "      <td>18.521889</td>\n",
       "      <td>109.390157</td>\n",
       "      <td>0.422725</td>\n",
       "      <td>25.449186</td>\n",
       "      <td>1.065817</td>\n",
       "      <td>0.497426</td>\n",
       "    </tr>\n",
       "    <tr>\n",
       "      <th>min</th>\n",
       "      <td>28.000000</td>\n",
       "      <td>0.000000</td>\n",
       "      <td>0.000000</td>\n",
       "      <td>0.000000</td>\n",
       "      <td>60.000000</td>\n",
       "      <td>-2.600000</td>\n",
       "      <td>0.000000</td>\n",
       "    </tr>\n",
       "    <tr>\n",
       "      <th>25%</th>\n",
       "      <td>47.000000</td>\n",
       "      <td>120.000000</td>\n",
       "      <td>174.250000</td>\n",
       "      <td>0.000000</td>\n",
       "      <td>120.000000</td>\n",
       "      <td>0.000000</td>\n",
       "      <td>0.000000</td>\n",
       "    </tr>\n",
       "    <tr>\n",
       "      <th>50%</th>\n",
       "      <td>54.000000</td>\n",
       "      <td>130.000000</td>\n",
       "      <td>223.000000</td>\n",
       "      <td>0.000000</td>\n",
       "      <td>138.000000</td>\n",
       "      <td>0.600000</td>\n",
       "      <td>1.000000</td>\n",
       "    </tr>\n",
       "    <tr>\n",
       "      <th>75%</th>\n",
       "      <td>60.000000</td>\n",
       "      <td>140.000000</td>\n",
       "      <td>267.000000</td>\n",
       "      <td>0.000000</td>\n",
       "      <td>156.000000</td>\n",
       "      <td>1.500000</td>\n",
       "      <td>1.000000</td>\n",
       "    </tr>\n",
       "    <tr>\n",
       "      <th>max</th>\n",
       "      <td>77.000000</td>\n",
       "      <td>200.000000</td>\n",
       "      <td>603.000000</td>\n",
       "      <td>1.000000</td>\n",
       "      <td>202.000000</td>\n",
       "      <td>6.200000</td>\n",
       "      <td>1.000000</td>\n",
       "    </tr>\n",
       "  </tbody>\n",
       "</table>\n",
       "</div>"
      ],
      "text/plain": [
       "              Age   RestingBP  Cholesterol   FastingBS       MaxHR  \\\n",
       "count  920.000000  919.000000   918.000000  920.000000  919.000000   \n",
       "mean    53.508696  132.393906   199.026144    0.232609  136.831338   \n",
       "std      9.422725   18.521889   109.390157    0.422725   25.449186   \n",
       "min     28.000000    0.000000     0.000000    0.000000   60.000000   \n",
       "25%     47.000000  120.000000   174.250000    0.000000  120.000000   \n",
       "50%     54.000000  130.000000   223.000000    0.000000  138.000000   \n",
       "75%     60.000000  140.000000   267.000000    0.000000  156.000000   \n",
       "max     77.000000  200.000000   603.000000    1.000000  202.000000   \n",
       "\n",
       "          Oldpeak  HeartDisease  \n",
       "count  920.000000    920.000000  \n",
       "mean     0.886522      0.553261  \n",
       "std      1.065817      0.497426  \n",
       "min     -2.600000      0.000000  \n",
       "25%      0.000000      0.000000  \n",
       "50%      0.600000      1.000000  \n",
       "75%      1.500000      1.000000  \n",
       "max      6.200000      1.000000  "
      ]
     },
     "execution_count": 13,
     "metadata": {},
     "output_type": "execute_result"
    }
   ],
   "source": [
    "data.describe()"
   ]
  },
  {
   "cell_type": "code",
   "execution_count": 14,
   "id": "aacac558-fcd8-4f1a-a1ff-e11cd26c174b",
   "metadata": {},
   "outputs": [
    {
     "data": {
      "text/plain": [
       "Age               0\n",
       "Sex               0\n",
       "ChestPainType     0\n",
       "RestingBP         1\n",
       "Cholesterol       2\n",
       "FastingBS         0\n",
       "RestingECG        1\n",
       "MaxHR             1\n",
       "ExerciseAngina    0\n",
       "Oldpeak           0\n",
       "ST_Slope          2\n",
       "HeartDisease      0\n",
       "dtype: int64"
      ]
     },
     "execution_count": 14,
     "metadata": {},
     "output_type": "execute_result"
    }
   ],
   "source": [
    "data.isnull().sum()"
   ]
  },
  {
   "cell_type": "code",
   "execution_count": 15,
   "id": "cf420c96-2203-4cac-abfe-9f06c80471b7",
   "metadata": {},
   "outputs": [
    {
     "data": {
      "text/plain": [
       "2"
      ]
     },
     "execution_count": 15,
     "metadata": {},
     "output_type": "execute_result"
    }
   ],
   "source": [
    "data.duplicated().sum()"
   ]
  },
  {
   "cell_type": "code",
   "execution_count": 16,
   "id": "cac8d09e-a246-4cf7-aaea-3393daadb149",
   "metadata": {},
   "outputs": [
    {
     "name": "stderr",
     "output_type": "stream",
     "text": [
      "C:\\ProgramData\\Anaconda3\\lib\\site-packages\\seaborn\\_decorators.py:36: FutureWarning: Pass the following variable as a keyword arg: x. From version 0.12, the only valid positional argument will be `data`, and passing other arguments without an explicit keyword will result in an error or misinterpretation.\n",
      "  warnings.warn(\n"
     ]
    },
    {
     "data": {
      "text/plain": [
       "<AxesSubplot:xlabel='Cholesterol'>"
      ]
     },
     "execution_count": 16,
     "metadata": {},
     "output_type": "execute_result"
    },
    {
     "data": {
      "image/png": "[encoded data removed]",
      "text/plain": [
       "<Figure size 640x480 with 1 Axes>"
      ]
     },
     "metadata": {},
     "output_type": "display_data"
    }
   ],
   "source": [
    "sns.boxplot(data.Cholesterol)"
   ]
  },
  {
   "cell_type": "code",
   "execution_count": 17,
   "id": "b2353d67-f150-42a6-b5b3-13525baece1f",
   "metadata": {},
   "outputs": [
    {
     "name": "stderr",
     "output_type": "stream",
     "text": [
      "C:\\ProgramData\\Anaconda3\\lib\\site-packages\\seaborn\\_decorators.py:36: FutureWarning: Pass the following variable as a keyword arg: x. From version 0.12, the only valid positional argument will be `data`, and passing other arguments without an explicit keyword will result in an error or misinterpretation.\n",
      "  warnings.warn(\n"
     ]
    },
    {
     "data": {
      "text/plain": [
       "<AxesSubplot:xlabel='Oldpeak'>"
      ]
     },
     "execution_count": 17,
     "metadata": {},
     "output_type": "execute_result"
    },
    {
     "data": {
      "image/png": "[encoded data removed]",
      "text/plain": [
       "<Figure size 640x480 with 1 Axes>"
      ]
     },
     "metadata": {},
     "output_type": "display_data"
    }
   ],
   "source": [
    "sns.boxplot(data.Oldpeak)"
   ]
  },
  {
   "cell_type": "code",
   "execution_count": 18,
   "id": "91835d7e-3d50-4959-bcce-dffa317fb735",
   "metadata": {},
   "outputs": [
    {
     "name": "stdout",
     "output_type": "stream",
     "text": [
      "['M' 'F']\n",
      "['ATA' 'NAP' 'ASY' 'TA']\n",
      "['Normal' 'ST' nan 'LVH']\n",
      "['N' 'Y']\n",
      "['Up' 'Flat' nan 'Down']\n"
     ]
    }
   ],
   "source": [
    "print(data['Sex'].unique())\n",
    "print(data['ChestPainType'].unique())\n",
    "print(data['RestingECG'].unique())\n",
    "print(data['ExerciseAngina'].unique())\n",
    "print(data['ST_Slope'].unique())"
   ]
  },
  {
   "cell_type": "code",
   "execution_count": null,
   "id": "0b7e185e-961e-4ffa-8ce9-fbab84009f46",
   "metadata": {},
   "outputs": [],
   "source": []
  },
  {
   "cell_type": "code",
   "execution_count": null,
   "id": "57ffca38-a456-448d-a2ea-fb86a6c29fb0",
   "metadata": {},
   "outputs": [],
   "source": []
  },
  {
   "cell_type": "markdown",
   "id": "1eea8824-6181-421b-a782-eadfbbf6d3e4",
   "metadata": {},
   "source": [
    "## Data Pre-Processing"
   ]
  },
  {
   "cell_type": "code",
   "execution_count": 19,
   "id": "12d60558-85ee-4f25-9d2d-1d0fdfc8c346",
   "metadata": {},
   "outputs": [],
   "source": [
    "#data cleaning _remove missing_valu\n",
    "data1=data.dropna()"
   ]
  },
  {
   "cell_type": "code",
   "execution_count": 20,
   "id": "7a7de9cb-5785-420b-8101-1ca2c3b14d45",
   "metadata": {},
   "outputs": [
    {
     "data": {
      "text/plain": [
       "Age               0\n",
       "Sex               0\n",
       "ChestPainType     0\n",
       "RestingBP         0\n",
       "Cholesterol       0\n",
       "FastingBS         0\n",
       "RestingECG        0\n",
       "MaxHR             0\n",
       "ExerciseAngina    0\n",
       "Oldpeak           0\n",
       "ST_Slope          0\n",
       "HeartDisease      0\n",
       "dtype: int64"
      ]
     },
     "execution_count": 20,
     "metadata": {},
     "output_type": "execute_result"
    }
   ],
   "source": [
    "data1.isnull().sum()"
   ]
  },
  {
   "cell_type": "code",
   "execution_count": 21,
   "id": "c4e013b1-6fd7-48ed-b16a-0623dda00f99",
   "metadata": {},
   "outputs": [],
   "source": [
    "data1=data.drop_duplicates()"
   ]
  },
  {
   "cell_type": "code",
   "execution_count": 22,
   "id": "a8ec68c3-c0ad-47f4-be13-9a7a216438c0",
   "metadata": {},
   "outputs": [
    {
     "data": {
      "text/plain": [
       "0"
      ]
     },
     "execution_count": 22,
     "metadata": {},
     "output_type": "execute_result"
    }
   ],
   "source": [
    "data1.duplicated().sum()"
   ]
  },
  {
   "cell_type": "code",
   "execution_count": 23,
   "id": "05e21604-feb4-475e-b598-b3a9ee02503a",
   "metadata": {},
   "outputs": [
    {
     "name": "stderr",
     "output_type": "stream",
     "text": [
      "C:\\ProgramData\\Anaconda3\\lib\\site-packages\\seaborn\\_decorators.py:36: FutureWarning: Pass the following variable as a keyword arg: x. From version 0.12, the only valid positional argument will be `data`, and passing other arguments without an explicit keyword will result in an error or misinterpretation.\n",
      "  warnings.warn(\n"
     ]
    },
    {
     "data": {
      "text/plain": [
       "<AxesSubplot:xlabel='Oldpeak'>"
      ]
     },
     "execution_count": 23,
     "metadata": {},
     "output_type": "execute_result"
    },
    {
     "data": {
      "image/png": "[encoded data removed]",
      "text/plain": [
       "<Figure size 640x480 with 1 Axes>"
      ]
     },
     "metadata": {},
     "output_type": "display_data"
    }
   ],
   "source": [
    "data1 = pd.DataFrame(data1)\n",
    "q1 = data1['Oldpeak'].quantile(0.25)\n",
    "q3 = data1['Oldpeak'].quantile(0.75)\n",
    "iqr = q3 - q1\n",
    "lower_bound = q1 - 1.5 * iqr\n",
    "upper_bound = q3 + 1.5 * iqr\n",
    "data1 = data1[(data1['Oldpeak'] >= lower_bound) & (data1['Oldpeak'] <= upper_bound)]\n",
    "sns.boxplot(data1.Oldpeak)\n"
   ]
  },
  {
   "cell_type": "code",
   "execution_count": 56,
   "id": "b819ccff-3179-495e-b9de-5149534ec783",
   "metadata": {},
   "outputs": [
    {
     "name": "stderr",
     "output_type": "stream",
     "text": [
      "C:\\ProgramData\\Anaconda3\\lib\\site-packages\\seaborn\\_decorators.py:36: FutureWarning: Pass the following variable as a keyword arg: x. From version 0.12, the only valid positional argument will be `data`, and passing other arguments without an explicit keyword will result in an error or misinterpretation.\n",
      "  warnings.warn(\n"
     ]
    },
    {
     "data": {
      "text/plain": [
       "<AxesSubplot:xlabel='Cholesterol'>"
      ]
     },
     "execution_count": 56,
     "metadata": {},
     "output_type": "execute_result"
    },
    {
     "data": {
      "image/png": "[encoded data removed]",
      "text/plain": [
       "<Figure size 640x480 with 1 Axes>"
      ]
     },
     "metadata": {},
     "output_type": "display_data"
    }
   ],
   "source": [
    "data1 = pd.DataFrame(data1)\n",
    "q1 = data1['Cholesterol'].quantile(0.25)\n",
    "q3 = data1['Cholesterol'].quantile(0.75)\n",
    "iqr = q3 - q1\n",
    "lower_bound = q1 - 1.5 * iqr\n",
    "upper_bound = q3 + 1.5 * iqr\n",
    "data1 = data1[(data1['Cholesterol'] >= lower_bound) & (data1['Cholesterol'] <= upper_bound)]\n",
    "sns.boxplot(data1.Cholesterol)"
   ]
  },
  {
   "cell_type": "code",
   "execution_count": 73,
   "id": "a258ed8a-f081-47c1-a7d6-e3b315884034",
   "metadata": {},
   "outputs": [],
   "source": [
    "from sklearn.preprocessing import LabelEncoder\n",
    "lab = LabelEncoder()"
   ]
  },
  {
   "cell_type": "code",
   "execution_count": 74,
   "id": "099fdc7e",
   "metadata": {},
   "outputs": [],
   "source": [
    "obj=data1.select_dtypes(include='object')\n",
    "nonobj=data1.select_dtypes(exclude='object')"
   ]
  },
  {
   "cell_type": "code",
   "execution_count": 75,
   "id": "3498435e",
   "metadata": {},
   "outputs": [],
   "source": [
    "for i in range(0,obj.shape[1]):\n",
    "    obj.iloc[:,i]=lab.fit_transform( obj.iloc[:,i])"
   ]
  },
  {
   "cell_type": "code",
   "execution_count": 80,
   "id": "59ef24b7",
   "metadata": {},
   "outputs": [],
   "source": [
    "df=pd.concat([obj,nonobj],axis=1)"
   ]
  },
  {
   "cell_type": "code",
   "execution_count": 104,
   "id": "08a28392-37d5-4b51-a18e-1a40fde155cb",
   "metadata": {},
   "outputs": [
    {
     "data": {
      "text/html": [
       "<div>\n",
       "<style scoped>\n",
       "    .dataframe tbody tr th:only-of-type {\n",
       "        vertical-align: middle;\n",
       "    }\n",
       "\n",
       "    .dataframe tbody tr th {\n",
       "        vertical-align: top;\n",
       "    }\n",
       "\n",
       "    .dataframe thead th {\n",
       "        text-align: right;\n",
       "    }\n",
       "</style>\n",
       "<table border=\"1\" class=\"dataframe\">\n",
       "  <thead>\n",
       "    <tr style=\"text-align: right;\">\n",
       "      <th></th>\n",
       "      <th>Sex</th>\n",
       "      <th>ChestPainType</th>\n",
       "      <th>RestingECG</th>\n",
       "      <th>ExerciseAngina</th>\n",
       "      <th>ST_Slope</th>\n",
       "      <th>Age</th>\n",
       "      <th>RestingBP</th>\n",
       "      <th>Cholesterol</th>\n",
       "      <th>FastingBS</th>\n",
       "      <th>MaxHR</th>\n",
       "      <th>Oldpeak</th>\n",
       "      <th>HeartDisease</th>\n",
       "    </tr>\n",
       "  </thead>\n",
       "  <tbody>\n",
       "    <tr>\n",
       "      <th>0</th>\n",
       "      <td>1</td>\n",
       "      <td>1</td>\n",
       "      <td>1</td>\n",
       "      <td>0</td>\n",
       "      <td>2</td>\n",
       "      <td>40</td>\n",
       "      <td>140.0</td>\n",
       "      <td>289.0</td>\n",
       "      <td>0</td>\n",
       "      <td>172.0</td>\n",
       "      <td>0.0</td>\n",
       "      <td>0</td>\n",
       "    </tr>\n",
       "    <tr>\n",
       "      <th>1</th>\n",
       "      <td>0</td>\n",
       "      <td>2</td>\n",
       "      <td>1</td>\n",
       "      <td>0</td>\n",
       "      <td>1</td>\n",
       "      <td>49</td>\n",
       "      <td>160.0</td>\n",
       "      <td>180.0</td>\n",
       "      <td>0</td>\n",
       "      <td>156.0</td>\n",
       "      <td>1.0</td>\n",
       "      <td>1</td>\n",
       "    </tr>\n",
       "    <tr>\n",
       "      <th>2</th>\n",
       "      <td>1</td>\n",
       "      <td>1</td>\n",
       "      <td>2</td>\n",
       "      <td>0</td>\n",
       "      <td>2</td>\n",
       "      <td>37</td>\n",
       "      <td>130.0</td>\n",
       "      <td>283.0</td>\n",
       "      <td>0</td>\n",
       "      <td>98.0</td>\n",
       "      <td>0.0</td>\n",
       "      <td>0</td>\n",
       "    </tr>\n",
       "    <tr>\n",
       "      <th>3</th>\n",
       "      <td>0</td>\n",
       "      <td>0</td>\n",
       "      <td>1</td>\n",
       "      <td>1</td>\n",
       "      <td>1</td>\n",
       "      <td>48</td>\n",
       "      <td>138.0</td>\n",
       "      <td>214.0</td>\n",
       "      <td>0</td>\n",
       "      <td>108.0</td>\n",
       "      <td>1.5</td>\n",
       "      <td>1</td>\n",
       "    </tr>\n",
       "    <tr>\n",
       "      <th>4</th>\n",
       "      <td>1</td>\n",
       "      <td>2</td>\n",
       "      <td>1</td>\n",
       "      <td>0</td>\n",
       "      <td>2</td>\n",
       "      <td>54</td>\n",
       "      <td>150.0</td>\n",
       "      <td>195.0</td>\n",
       "      <td>0</td>\n",
       "      <td>122.0</td>\n",
       "      <td>0.0</td>\n",
       "      <td>0</td>\n",
       "    </tr>\n",
       "    <tr>\n",
       "      <th>...</th>\n",
       "      <td>...</td>\n",
       "      <td>...</td>\n",
       "      <td>...</td>\n",
       "      <td>...</td>\n",
       "      <td>...</td>\n",
       "      <td>...</td>\n",
       "      <td>...</td>\n",
       "      <td>...</td>\n",
       "      <td>...</td>\n",
       "      <td>...</td>\n",
       "      <td>...</td>\n",
       "      <td>...</td>\n",
       "    </tr>\n",
       "    <tr>\n",
       "      <th>915</th>\n",
       "      <td>1</td>\n",
       "      <td>3</td>\n",
       "      <td>1</td>\n",
       "      <td>0</td>\n",
       "      <td>1</td>\n",
       "      <td>45</td>\n",
       "      <td>110.0</td>\n",
       "      <td>264.0</td>\n",
       "      <td>0</td>\n",
       "      <td>132.0</td>\n",
       "      <td>1.2</td>\n",
       "      <td>1</td>\n",
       "    </tr>\n",
       "    <tr>\n",
       "      <th>916</th>\n",
       "      <td>1</td>\n",
       "      <td>0</td>\n",
       "      <td>1</td>\n",
       "      <td>0</td>\n",
       "      <td>1</td>\n",
       "      <td>68</td>\n",
       "      <td>144.0</td>\n",
       "      <td>193.0</td>\n",
       "      <td>1</td>\n",
       "      <td>141.0</td>\n",
       "      <td>3.4</td>\n",
       "      <td>1</td>\n",
       "    </tr>\n",
       "    <tr>\n",
       "      <th>917</th>\n",
       "      <td>1</td>\n",
       "      <td>0</td>\n",
       "      <td>1</td>\n",
       "      <td>1</td>\n",
       "      <td>1</td>\n",
       "      <td>57</td>\n",
       "      <td>130.0</td>\n",
       "      <td>131.0</td>\n",
       "      <td>0</td>\n",
       "      <td>115.0</td>\n",
       "      <td>1.2</td>\n",
       "      <td>1</td>\n",
       "    </tr>\n",
       "    <tr>\n",
       "      <th>918</th>\n",
       "      <td>0</td>\n",
       "      <td>1</td>\n",
       "      <td>0</td>\n",
       "      <td>0</td>\n",
       "      <td>1</td>\n",
       "      <td>57</td>\n",
       "      <td>130.0</td>\n",
       "      <td>236.0</td>\n",
       "      <td>0</td>\n",
       "      <td>174.0</td>\n",
       "      <td>0.0</td>\n",
       "      <td>1</td>\n",
       "    </tr>\n",
       "    <tr>\n",
       "      <th>919</th>\n",
       "      <td>1</td>\n",
       "      <td>2</td>\n",
       "      <td>1</td>\n",
       "      <td>0</td>\n",
       "      <td>2</td>\n",
       "      <td>38</td>\n",
       "      <td>138.0</td>\n",
       "      <td>175.0</td>\n",
       "      <td>0</td>\n",
       "      <td>173.0</td>\n",
       "      <td>0.0</td>\n",
       "      <td>0</td>\n",
       "    </tr>\n",
       "  </tbody>\n",
       "</table>\n",
       "<p>708 rows × 12 columns</p>\n",
       "</div>"
      ],
      "text/plain": [
       "     Sex  ChestPainType  RestingECG  ExerciseAngina  ST_Slope  Age  RestingBP  \\\n",
       "0      1              1           1               0         2   40      140.0   \n",
       "1      0              2           1               0         1   49      160.0   \n",
       "2      1              1           2               0         2   37      130.0   \n",
       "3      0              0           1               1         1   48      138.0   \n",
       "4      1              2           1               0         2   54      150.0   \n",
       "..   ...            ...         ...             ...       ...  ...        ...   \n",
       "915    1              3           1               0         1   45      110.0   \n",
       "916    1              0           1               0         1   68      144.0   \n",
       "917    1              0           1               1         1   57      130.0   \n",
       "918    0              1           0               0         1   57      130.0   \n",
       "919    1              2           1               0         2   38      138.0   \n",
       "\n",
       "     Cholesterol  FastingBS  MaxHR  Oldpeak  HeartDisease  \n",
       "0          289.0          0  172.0      0.0             0  \n",
       "1          180.0          0  156.0      1.0             1  \n",
       "2          283.0          0   98.0      0.0             0  \n",
       "3          214.0          0  108.0      1.5             1  \n",
       "4          195.0          0  122.0      0.0             0  \n",
       "..           ...        ...    ...      ...           ...  \n",
       "915        264.0          0  132.0      1.2             1  \n",
       "916        193.0          1  141.0      3.4             1  \n",
       "917        131.0          0  115.0      1.2             1  \n",
       "918        236.0          0  174.0      0.0             1  \n",
       "919        175.0          0  173.0      0.0             0  \n",
       "\n",
       "[708 rows x 12 columns]"
      ]
     },
     "execution_count": 104,
     "metadata": {},
     "output_type": "execute_result"
    }
   ],
   "source": [
    "df"
   ]
  },
  {
   "cell_type": "code",
   "execution_count": 27,
   "id": "e36a6a77-2fb7-4e0b-821d-d19c566a40e8",
   "metadata": {},
   "outputs": [
    {
     "data": {
      "text/html": [
       "<div>\n",
       "<style scoped>\n",
       "    .dataframe tbody tr th:only-of-type {\n",
       "        vertical-align: middle;\n",
       "    }\n",
       "\n",
       "    .dataframe tbody tr th {\n",
       "        vertical-align: top;\n",
       "    }\n",
       "\n",
       "    .dataframe thead th {\n",
       "        text-align: right;\n",
       "    }\n",
       "</style>\n",
       "<table border=\"1\" class=\"dataframe\">\n",
       "  <thead>\n",
       "    <tr style=\"text-align: right;\">\n",
       "      <th></th>\n",
       "      <th>Age</th>\n",
       "      <th>Sex</th>\n",
       "      <th>ChestPainType</th>\n",
       "      <th>RestingBP</th>\n",
       "      <th>Cholesterol</th>\n",
       "      <th>FastingBS</th>\n",
       "      <th>RestingECG</th>\n",
       "      <th>MaxHR</th>\n",
       "      <th>ExerciseAngina</th>\n",
       "      <th>Oldpeak</th>\n",
       "      <th>ST_Slope</th>\n",
       "      <th>HeartDisease</th>\n",
       "    </tr>\n",
       "  </thead>\n",
       "  <tbody>\n",
       "    <tr>\n",
       "      <th>0</th>\n",
       "      <td>40</td>\n",
       "      <td>M</td>\n",
       "      <td>ATA</td>\n",
       "      <td>140.0</td>\n",
       "      <td>289.0</td>\n",
       "      <td>0</td>\n",
       "      <td>Normal</td>\n",
       "      <td>172.0</td>\n",
       "      <td>N</td>\n",
       "      <td>0.0</td>\n",
       "      <td>Up</td>\n",
       "      <td>0</td>\n",
       "    </tr>\n",
       "    <tr>\n",
       "      <th>1</th>\n",
       "      <td>49</td>\n",
       "      <td>F</td>\n",
       "      <td>NAP</td>\n",
       "      <td>160.0</td>\n",
       "      <td>180.0</td>\n",
       "      <td>0</td>\n",
       "      <td>Normal</td>\n",
       "      <td>156.0</td>\n",
       "      <td>N</td>\n",
       "      <td>1.0</td>\n",
       "      <td>Flat</td>\n",
       "      <td>1</td>\n",
       "    </tr>\n",
       "    <tr>\n",
       "      <th>2</th>\n",
       "      <td>37</td>\n",
       "      <td>M</td>\n",
       "      <td>ATA</td>\n",
       "      <td>130.0</td>\n",
       "      <td>283.0</td>\n",
       "      <td>0</td>\n",
       "      <td>ST</td>\n",
       "      <td>98.0</td>\n",
       "      <td>N</td>\n",
       "      <td>0.0</td>\n",
       "      <td>Up</td>\n",
       "      <td>0</td>\n",
       "    </tr>\n",
       "    <tr>\n",
       "      <th>3</th>\n",
       "      <td>48</td>\n",
       "      <td>F</td>\n",
       "      <td>ASY</td>\n",
       "      <td>138.0</td>\n",
       "      <td>214.0</td>\n",
       "      <td>0</td>\n",
       "      <td>Normal</td>\n",
       "      <td>108.0</td>\n",
       "      <td>Y</td>\n",
       "      <td>1.5</td>\n",
       "      <td>Flat</td>\n",
       "      <td>1</td>\n",
       "    </tr>\n",
       "    <tr>\n",
       "      <th>4</th>\n",
       "      <td>54</td>\n",
       "      <td>M</td>\n",
       "      <td>NAP</td>\n",
       "      <td>150.0</td>\n",
       "      <td>195.0</td>\n",
       "      <td>0</td>\n",
       "      <td>Normal</td>\n",
       "      <td>122.0</td>\n",
       "      <td>N</td>\n",
       "      <td>0.0</td>\n",
       "      <td>Up</td>\n",
       "      <td>0</td>\n",
       "    </tr>\n",
       "  </tbody>\n",
       "</table>\n",
       "</div>"
      ],
      "text/plain": [
       "   Age Sex ChestPainType  RestingBP  Cholesterol  FastingBS RestingECG  MaxHR  \\\n",
       "0   40   M           ATA      140.0        289.0          0     Normal  172.0   \n",
       "1   49   F           NAP      160.0        180.0          0     Normal  156.0   \n",
       "2   37   M           ATA      130.0        283.0          0         ST   98.0   \n",
       "3   48   F           ASY      138.0        214.0          0     Normal  108.0   \n",
       "4   54   M           NAP      150.0        195.0          0     Normal  122.0   \n",
       "\n",
       "  ExerciseAngina  Oldpeak ST_Slope  HeartDisease  \n",
       "0              N      0.0       Up             0  \n",
       "1              N      1.0     Flat             1  \n",
       "2              N      0.0       Up             0  \n",
       "3              Y      1.5     Flat             1  \n",
       "4              N      0.0       Up             0  "
      ]
     },
     "execution_count": 27,
     "metadata": {},
     "output_type": "execute_result"
    }
   ],
   "source": [
    "data1.head()"
   ]
  },
  {
   "cell_type": "markdown",
   "id": "b2371fad-5610-4253-a709-a95ca0779f70",
   "metadata": {},
   "source": [
    "## data analysis and visualization"
   ]
  },
  {
   "cell_type": "markdown",
   "id": "2443267a-17a5-49f9-9c76-55ed8a940244",
   "metadata": {},
   "source": [
    "## What is the most  age repeat\n"
   ]
  },
  {
   "cell_type": "code",
   "execution_count": 57,
   "id": "5ee24680-54c9-47a3-a5bf-e8326a286b6b",
   "metadata": {},
   "outputs": [
    {
     "data": {
      "text/plain": [
       "54    46\n",
       "55    33\n",
       "58    32\n",
       "57    31\n",
       "48    29\n",
       "52    27\n",
       "51    25\n",
       "59    25\n",
       "56    23\n",
       "62    23\n",
       "41    22\n",
       "46    22\n",
       "60    22\n",
       "53    21\n",
       "43    20\n",
       "50    20\n",
       "49    19\n",
       "61    18\n",
       "45    17\n",
       "44    17\n",
       "63    17\n",
       "42    16\n",
       "64    16\n",
       "47    15\n",
       "39    15\n",
       "65    14\n",
       "67    11\n",
       "37    11\n",
       "35    10\n",
       "66    10\n",
       "69     9\n",
       "40     9\n",
       "38     9\n",
       "68     7\n",
       "34     6\n",
       "71     5\n",
       "70     5\n",
       "36     5\n",
       "74     4\n",
       "75     3\n",
       "72     3\n",
       "32     3\n",
       "29     3\n",
       "77     2\n",
       "76     2\n",
       "31     2\n",
       "33     2\n",
       "30     1\n",
       "28     1\n",
       "Name: Age, dtype: int64"
      ]
     },
     "execution_count": 57,
     "metadata": {},
     "output_type": "execute_result"
    }
   ],
   "source": [
    "data1['Age'].value_counts()"
   ]
  },
  {
   "cell_type": "code",
   "execution_count": 59,
   "id": "3d2985a4-10aa-41f0-b5da-af099074cf2c",
   "metadata": {},
   "outputs": [
    {
     "data": {
      "text/plain": [
       "<AxesSubplot:xlabel='count', ylabel='Age'>"
      ]
     },
     "execution_count": 59,
     "metadata": {},
     "output_type": "execute_result"
    },
    {
     "data": {
      "image/png": "[encoded data removed]",
      "text/plain": [
       "<Figure size 1000x1000 with 1 Axes>"
      ]
     },
     "metadata": {},
     "output_type": "display_data"
    }
   ],
   "source": [
    "sns.set(rc={'figure.figsize':[10,10]},font_scale=1.2)\n",
    "\n",
    "sns.countplot(y='Age',data=data1)"
   ]
  },
  {
   "cell_type": "markdown",
   "id": "3cb70180-cf3f-4ed9-a722-d88c4c30a4aa",
   "metadata": {},
   "source": [
    "## what is most gender repeat"
   ]
  },
  {
   "cell_type": "code",
   "execution_count": 30,
   "id": "b7123956-aef3-4827-af9d-78136b66fc36",
   "metadata": {},
   "outputs": [
    {
     "data": {
      "text/plain": [
       "M    543\n",
       "F    175\n",
       "Name: Sex, dtype: int64"
      ]
     },
     "execution_count": 30,
     "metadata": {},
     "output_type": "execute_result"
    }
   ],
   "source": [
    "data1['Sex'].value_counts()"
   ]
  },
  {
   "cell_type": "code",
   "execution_count": 31,
   "id": "f04e91a6-1ec5-435e-a146-8bb676b025d5",
   "metadata": {},
   "outputs": [
    {
     "data": {
      "text/plain": [
       "<AxesSubplot:>"
      ]
     },
     "execution_count": 31,
     "metadata": {},
     "output_type": "execute_result"
    },
    {
     "data": {
      "image/png": "[encoded data removed]",
      "text/plain": [
       "<Figure size 640x480 with 1 Axes>"
      ]
     },
     "metadata": {},
     "output_type": "display_data"
    }
   ],
   "source": [
    "data1['Sex'].value_counts().plot.bar()"
   ]
  },
  {
   "cell_type": "markdown",
   "id": "94ba6b13-a5f5-4b40-a5da-32958110c994",
   "metadata": {},
   "source": [
    "## what is most ChestPainType repeat"
   ]
  },
  {
   "cell_type": "code",
   "execution_count": 32,
   "id": "c610af43-d60a-4ce6-b978-ef058c1935fb",
   "metadata": {},
   "outputs": [
    {
     "data": {
      "text/plain": [
       "ASY    349\n",
       "NAP    166\n",
       "ATA    164\n",
       "TA      39\n",
       "Name: ChestPainType, dtype: int64"
      ]
     },
     "execution_count": 32,
     "metadata": {},
     "output_type": "execute_result"
    }
   ],
   "source": [
    "data1['ChestPainType'].value_counts()"
   ]
  },
  {
   "cell_type": "code",
   "execution_count": 33,
   "id": "209c3725-4827-43ff-9da4-3a33b7710cd4",
   "metadata": {},
   "outputs": [
    {
     "data": {
      "text/plain": [
       "<AxesSubplot:>"
      ]
     },
     "execution_count": 33,
     "metadata": {},
     "output_type": "execute_result"
    },
    {
     "data": {
      "image/png": "[encoded data removed]",
      "text/plain": [
       "<Figure size 640x480 with 1 Axes>"
      ]
     },
     "metadata": {},
     "output_type": "display_data"
    }
   ],
   "source": [
    "data1['ChestPainType'].value_counts().plot.bar()"
   ]
  },
  {
   "cell_type": "markdown",
   "id": "518817b5-3280-44a3-840d-c4108e39ffe6",
   "metadata": {},
   "source": [
    "## What are the top 5 blood pressure values in the break"
   ]
  },
  {
   "cell_type": "code",
   "execution_count": 34,
   "id": "2db9c201-ff7e-4128-86a5-7b9a15fde262",
   "metadata": {},
   "outputs": [
    {
     "data": {
      "text/plain": [
       "243    200.0\n",
       "761    192.0\n",
       "109    190.0\n",
       "594    190.0\n",
       "123    180.0\n",
       "Name: RestingBP, dtype: float64"
      ]
     },
     "execution_count": 34,
     "metadata": {},
     "output_type": "execute_result"
    }
   ],
   "source": [
    "data1['RestingBP'].nlargest(5)\n"
   ]
  },
  {
   "cell_type": "markdown",
   "id": "a94f8e15-2740-426d-806b-c8e099ed49bf",
   "metadata": {},
   "source": [
    "## What are the minumim 5 blood pressure values in the break"
   ]
  },
  {
   "cell_type": "code",
   "execution_count": 35,
   "id": "e6e794ed-08f3-4b70-9027-ef763aea81e2",
   "metadata": {},
   "outputs": [
    {
     "data": {
      "text/plain": [
       "229    92.0\n",
       "694    94.0\n",
       "834    94.0\n",
       "521    96.0\n",
       "269    98.0\n",
       "Name: RestingBP, dtype: float64"
      ]
     },
     "execution_count": 35,
     "metadata": {},
     "output_type": "execute_result"
    }
   ],
   "source": [
    "data1['RestingBP'].nsmallest(5)\n"
   ]
  },
  {
   "cell_type": "markdown",
   "id": "f28dfe52-8bd2-4088-a66f-44c00797df66",
   "metadata": {},
   "source": [
    "## what is avrage value fo blood pressure in the break"
   ]
  },
  {
   "cell_type": "code",
   "execution_count": 36,
   "id": "cb40134e-b132-49e6-aa62-4c5ad1e86ebc",
   "metadata": {},
   "outputs": [
    {
     "data": {
      "text/plain": [
       "132.80362116991643"
      ]
     },
     "execution_count": 36,
     "metadata": {},
     "output_type": "execute_result"
    }
   ],
   "source": [
    "data1['RestingBP'].mean()"
   ]
  },
  {
   "cell_type": "markdown",
   "id": "775d70a9-4286-4681-a6ce-bd920f42eacc",
   "metadata": {},
   "source": [
    "## what are the most 5 value for Cholesterol"
   ]
  },
  {
   "cell_type": "code",
   "execution_count": 37,
   "id": "17c6b2df-7aa0-46ec-ab92-ddb850ef988b",
   "metadata": {},
   "outputs": [
    {
     "data": {
      "text/plain": [
       "182    404.0\n",
       "258    394.0\n",
       "805    394.0\n",
       "123    393.0\n",
       "102    392.0\n",
       "Name: Cholesterol, dtype: float64"
      ]
     },
     "execution_count": 37,
     "metadata": {},
     "output_type": "execute_result"
    }
   ],
   "source": [
    "data1['Cholesterol'].nlargest(5)"
   ]
  },
  {
   "cell_type": "markdown",
   "id": "3825d837-a556-426f-8db2-e1b740dae62e",
   "metadata": {},
   "source": [
    "## what are the minumim 5 value for Cholesterol"
   ]
  },
  {
   "cell_type": "code",
   "execution_count": 38,
   "id": "cbc3b665-c8cc-4d10-ace9-bb862d27d4cd",
   "metadata": {},
   "outputs": [
    {
     "data": {
      "text/plain": [
       "98      85.0\n",
       "446    100.0\n",
       "573    110.0\n",
       "543    113.0\n",
       "229    117.0\n",
       "Name: Cholesterol, dtype: float64"
      ]
     },
     "execution_count": 38,
     "metadata": {},
     "output_type": "execute_result"
    }
   ],
   "source": [
    "data1['Cholesterol'].nsmallest(5)"
   ]
  },
  {
   "cell_type": "markdown",
   "id": "4395f130-12e3-49dc-a258-d1bf52ba47d7",
   "metadata": {},
   "source": [
    "## what is the avrage value for cholrsterol"
   ]
  },
  {
   "cell_type": "code",
   "execution_count": 39,
   "id": "76e37ab4-d77b-4461-9974-7d1221c727ea",
   "metadata": {},
   "outputs": [
    {
     "data": {
      "text/plain": [
       "240.85376044568244"
      ]
     },
     "execution_count": 39,
     "metadata": {},
     "output_type": "execute_result"
    }
   ],
   "source": [
    "data1['Cholesterol'].mean()"
   ]
  },
  {
   "cell_type": "markdown",
   "id": "dd29f896-3869-4770-832c-f326198086e1",
   "metadata": {},
   "source": [
    "## how many of peoble have a fasting blood sugar "
   ]
  },
  {
   "cell_type": "code",
   "execution_count": 40,
   "id": "c5072cdf-fecf-4eb3-ad37-9aae6aaf6308",
   "metadata": {},
   "outputs": [
    {
     "data": {
      "text/plain": [
       "119"
      ]
     },
     "execution_count": 40,
     "metadata": {},
     "output_type": "execute_result"
    }
   ],
   "source": [
    "data1['FastingBS'].value_counts()[1]"
   ]
  },
  {
   "cell_type": "markdown",
   "id": "dcd78cc9-67fa-4a5a-bbc9-335e63ca6160",
   "metadata": {},
   "source": [
    "## how many of peoble not have a fasting blood sugar"
   ]
  },
  {
   "cell_type": "code",
   "execution_count": 41,
   "id": "998b1b03-3827-45cf-9350-90dba0f07a0d",
   "metadata": {},
   "outputs": [
    {
     "data": {
      "text/plain": [
       "599"
      ]
     },
     "execution_count": 41,
     "metadata": {},
     "output_type": "execute_result"
    }
   ],
   "source": [
    "data1['FastingBS'].value_counts()[0]"
   ]
  },
  {
   "cell_type": "markdown",
   "id": "1be0f670-73e9-4e1e-854f-dbc696674ea1",
   "metadata": {},
   "source": [
    "## what is value most reoeat to Resting Electrocardiogram"
   ]
  },
  {
   "cell_type": "code",
   "execution_count": 42,
   "id": "7732fdc9-2509-4989-a715-0667920e7e56",
   "metadata": {},
   "outputs": [
    {
     "data": {
      "text/plain": [
       "Normal    429\n",
       "LVH       168\n",
       "ST        120\n",
       "Name: RestingECG, dtype: int64"
      ]
     },
     "execution_count": 42,
     "metadata": {},
     "output_type": "execute_result"
    }
   ],
   "source": [
    "data1['RestingECG'].value_counts()"
   ]
  },
  {
   "cell_type": "code",
   "execution_count": 43,
   "id": "c579c442-654b-4ab1-9741-48090e001d8a",
   "metadata": {},
   "outputs": [
    {
     "data": {
      "text/plain": [
       "<AxesSubplot:>"
      ]
     },
     "execution_count": 43,
     "metadata": {},
     "output_type": "execute_result"
    },
    {
     "data": {
      "image/png": "[encoded data removed]",
      "text/plain": [
       "<Figure size 640x480 with 1 Axes>"
      ]
     },
     "metadata": {},
     "output_type": "display_data"
    }
   ],
   "source": [
    "data1['RestingECG'].value_counts().plot.bar()"
   ]
  },
  {
   "cell_type": "markdown",
   "id": "fe8f62a8-1e05-4f2b-bf55-e622bda54982",
   "metadata": {},
   "source": [
    "## what are the avrage for 1 value and  max , min 5 value for Maximum heart rate"
   ]
  },
  {
   "cell_type": "code",
   "execution_count": 44,
   "id": "efe74fef-cbbc-4543-9ed2-dacf8b563c2a",
   "metadata": {},
   "outputs": [
    {
     "data": {
      "text/plain": [
       "831    202.0\n",
       "761    195.0\n",
       "797    194.0\n",
       "755    192.0\n",
       "126    190.0\n",
       "Name: MaxHR, dtype: float64"
      ]
     },
     "execution_count": 44,
     "metadata": {},
     "output_type": "execute_result"
    }
   ],
   "source": [
    "data1['MaxHR'].nlargest(5)"
   ]
  },
  {
   "cell_type": "code",
   "execution_count": 45,
   "id": "7760f6a2-9d23-46d1-8fea-7a9c98487b3d",
   "metadata": {},
   "outputs": [
    {
     "data": {
      "text/plain": [
       "718    71.0\n",
       "552    73.0\n",
       "509    80.0\n",
       "434    84.0\n",
       "584    84.0\n",
       "Name: MaxHR, dtype: float64"
      ]
     },
     "execution_count": 45,
     "metadata": {},
     "output_type": "execute_result"
    }
   ],
   "source": [
    "data1['MaxHR'].nsmallest(5)"
   ]
  },
  {
   "cell_type": "code",
   "execution_count": 46,
   "id": "5c7f4702-1ce5-4776-abbf-d1934eafd1ba",
   "metadata": {},
   "outputs": [
    {
     "data": {
      "text/plain": [
       "140.48050139275767"
      ]
     },
     "execution_count": 46,
     "metadata": {},
     "output_type": "execute_result"
    }
   ],
   "source": [
    "data1['MaxHR'].mean()"
   ]
  },
  {
   "cell_type": "markdown",
   "id": "651c3aae-1d4c-4dd6-883c-8e6666e215a8",
   "metadata": {},
   "source": [
    "## what is most value repeat to ExerciseAngina"
   ]
  },
  {
   "cell_type": "code",
   "execution_count": 47,
   "id": "a8b9a295-941b-4d60-8eab-db1949599fd2",
   "metadata": {},
   "outputs": [
    {
     "data": {
      "text/plain": [
       "N    547\n",
       "Y    373\n",
       "Name: ExerciseAngina, dtype: int64"
      ]
     },
     "execution_count": 47,
     "metadata": {},
     "output_type": "execute_result"
    }
   ],
   "source": [
    "data['ExerciseAngina'].value_counts()"
   ]
  },
  {
   "cell_type": "code",
   "execution_count": 48,
   "id": "c54490e1-8b69-4809-85ca-893c1c347715",
   "metadata": {},
   "outputs": [
    {
     "data": {
      "text/plain": [
       "<AxesSubplot:>"
      ]
     },
     "execution_count": 48,
     "metadata": {},
     "output_type": "execute_result"
    },
    {
     "data": {
      "image/png": "[encoded data removed]",
      "text/plain": [
       "<Figure size 640x480 with 1 Axes>"
      ]
     },
     "metadata": {},
     "output_type": "display_data"
    }
   ],
   "source": [
    "data['ExerciseAngina'].value_counts().plot.bar()"
   ]
  },
  {
   "cell_type": "markdown",
   "id": "8e7dcd27-3fd5-4458-9fee-d163b66c60a9",
   "metadata": {},
   "source": [
    "## what is the avr of one value and min, max 5 value of Oldpeak"
   ]
  },
  {
   "cell_type": "code",
   "execution_count": 49,
   "id": "07946cf4-9081-49bf-ab4a-787364c1b283",
   "metadata": {},
   "outputs": [
    {
     "data": {
      "text/plain": [
       "673    3.6\n",
       "687    3.6\n",
       "794    3.6\n",
       "860    3.6\n",
       "543    3.5\n",
       "Name: Oldpeak, dtype: float64"
      ]
     },
     "execution_count": 49,
     "metadata": {},
     "output_type": "execute_result"
    }
   ],
   "source": [
    "data1['Oldpeak'].nlargest(5)"
   ]
  },
  {
   "cell_type": "code",
   "execution_count": 50,
   "id": "342cbb43-13d1-4860-b38a-510184856745",
   "metadata": {},
   "outputs": [
    {
     "data": {
      "text/plain": [
       "514   -0.1\n",
       "0      0.0\n",
       "2      0.0\n",
       "4      0.0\n",
       "5      0.0\n",
       "Name: Oldpeak, dtype: float64"
      ]
     },
     "execution_count": 50,
     "metadata": {},
     "output_type": "execute_result"
    }
   ],
   "source": [
    "data1['Oldpeak'].nsmallest(5)"
   ]
  },
  {
   "cell_type": "code",
   "execution_count": 51,
   "id": "90a234c8-a1ac-4680-90c8-a7ef943e8530",
   "metadata": {},
   "outputs": [
    {
     "data": {
      "text/plain": [
       "0.45"
      ]
     },
     "execution_count": 51,
     "metadata": {},
     "output_type": "execute_result"
    }
   ],
   "source": [
    "data1['Oldpeak'].median()"
   ]
  },
  {
   "cell_type": "markdown",
   "id": "15d34e23-da8a-437d-ac42-08ac62df7cef",
   "metadata": {},
   "source": [
    "## what is most value repeat for ST_Slope"
   ]
  },
  {
   "cell_type": "code",
   "execution_count": 52,
   "id": "a68057be-cc7c-4f79-a804-8939cf10bafa",
   "metadata": {},
   "outputs": [
    {
     "data": {
      "text/plain": [
       "Up      342\n",
       "Flat    341\n",
       "Down     33\n",
       "Name: ST_Slope, dtype: int64"
      ]
     },
     "execution_count": 52,
     "metadata": {},
     "output_type": "execute_result"
    }
   ],
   "source": [
    "data1['ST_Slope'].value_counts()"
   ]
  },
  {
   "cell_type": "code",
   "execution_count": 53,
   "id": "3b0d9bda-3842-4cd7-a4b7-e59635953344",
   "metadata": {},
   "outputs": [
    {
     "data": {
      "text/plain": [
       "<AxesSubplot:>"
      ]
     },
     "execution_count": 53,
     "metadata": {},
     "output_type": "execute_result"
    },
    {
     "data": {
      "image/png": "[encoded data removed]",
      "text/plain": [
       "<Figure size 640x480 with 1 Axes>"
      ]
     },
     "metadata": {},
     "output_type": "display_data"
    }
   ],
   "source": [
    "data1['ST_Slope'].value_counts().plot.bar()"
   ]
  },
  {
   "cell_type": "markdown",
   "id": "8cfb96b6-0333-426f-8dfa-f49e580682e3",
   "metadata": {},
   "source": [
    "## how many of people have HeartDisease"
   ]
  },
  {
   "cell_type": "code",
   "execution_count": 54,
   "id": "154df109-b09d-4350-a7c5-612c7315fb11",
   "metadata": {},
   "outputs": [
    {
     "data": {
      "text/plain": [
       "335"
      ]
     },
     "execution_count": 54,
     "metadata": {},
     "output_type": "execute_result"
    }
   ],
   "source": [
    "data1['HeartDisease'].value_counts()[1]"
   ]
  },
  {
   "cell_type": "markdown",
   "id": "e511022b-c95e-46fb-a54a-074cd165188d",
   "metadata": {},
   "source": [
    "## how many of people not have HeartDisease"
   ]
  },
  {
   "cell_type": "code",
   "execution_count": 55,
   "id": "5c51b58c-6217-4283-adbf-b20e0e5cc4f0",
   "metadata": {},
   "outputs": [
    {
     "data": {
      "text/plain": [
       "383"
      ]
     },
     "execution_count": 55,
     "metadata": {},
     "output_type": "execute_result"
    }
   ],
   "source": [
    "data1['HeartDisease'].value_counts()[0]"
   ]
  },
  {
   "cell_type": "code",
   "execution_count": 60,
   "id": "74568584-8cd9-43b1-9e1d-b10d6ff16a35",
   "metadata": {},
   "outputs": [
    {
     "data": {
      "image/png": "[encoded data removed]",
      "text/plain": [
       "<Figure size 2000x1500 with 9 Axes>"
      ]
     },
     "metadata": {},
     "output_type": "display_data"
    }
   ],
   "source": [
    "data1.hist(figsize=(20,15))\n",
    "plt.show()"
   ]
  },
  {
   "cell_type": "markdown",
   "id": "4078d7af",
   "metadata": {},
   "source": [
    "## What is the effect of columns on the Heart Disease"
   ]
  },
  {
   "cell_type": "code",
   "execution_count": 67,
   "id": "e938e355-1e61-4a1d-9fee-34d9a3392e7d",
   "metadata": {},
   "outputs": [],
   "source": [
    "cor=data1.corr()"
   ]
  },
  {
   "cell_type": "code",
   "execution_count": 69,
   "id": "136d6f62-5abc-4d09-b3fa-a465d2151dea",
   "metadata": {},
   "outputs": [
    {
     "data": {
      "text/plain": [
       "<AxesSubplot:>"
      ]
     },
     "execution_count": 69,
     "metadata": {},
     "output_type": "execute_result"
    },
    {
     "data": {
      "image/png": "[encoded data removed]",
      "text/plain": [
       "<Figure size 1000x1000 with 2 Axes>"
      ]
     },
     "metadata": {},
     "output_type": "display_data"
    }
   ],
   "source": [
    "sns.heatmap(cor.rank(axis='columns'),annot=True,fmt='.1f')"
   ]
  },
  {
   "cell_type": "markdown",
   "id": "7c080f5b",
   "metadata": {},
   "source": [
    "## model "
   ]
  },
  {
   "cell_type": "code",
   "execution_count": 117,
   "id": "fd28162a-e255-4125-93bf-8725082bbcb9",
   "metadata": {},
   "outputs": [],
   "source": [
    "from sklearn.datasets import load_boston\n",
    "from sklearn.model_selection import train_test_split\n",
    "from sklearn.linear_model import LinearRegression"
   ]
  },
  {
   "cell_type": "code",
   "execution_count": 224,
   "id": "13a32a23-ed96-400d-8d73-e306d5e32214",
   "metadata": {},
   "outputs": [],
   "source": [
    "X=df.drop(['HeartDisease'],axis=1)\n",
    "y=df['HeartDisease']"
   ]
  },
  {
   "cell_type": "code",
   "execution_count": 228,
   "id": "e920d8df",
   "metadata": {},
   "outputs": [],
   "source": [
    "X_train, X_test, y_train, y_test = train_test_split(X, y, test_size=0.3)"
   ]
  },
  {
   "cell_type": "code",
   "execution_count": 229,
   "id": "31406222",
   "metadata": {},
   "outputs": [
    {
     "data": {
      "text/plain": [
       "LinearRegression()"
      ]
     },
     "execution_count": 229,
     "metadata": {},
     "output_type": "execute_result"
    }
   ],
   "source": [
    "model=LinearRegression()\n",
    "model.fit(X_train,y_train)"
   ]
  },
  {
   "cell_type": "code",
   "execution_count": 230,
   "id": "89f467f8",
   "metadata": {},
   "outputs": [
    {
     "name": "stdout",
     "output_type": "stream",
     "text": [
      "Linear Regression Train Score is :  0.5185859818969685\n",
      "Linear Regression Test Score is :  0.5431139599243497\n"
     ]
    }
   ],
   "source": [
    "print('Linear Regression Train Score is : ' , model.score(X_train, y_train))\n",
    "print('Linear Regression Test Score is : ' , model.score(X_test, y_test))"
   ]
  },
  {
   "cell_type": "code",
   "execution_count": 231,
   "id": "4a2544d6-f00b-40df-9a0b-1d3be8e50a1f",
   "metadata": {},
   "outputs": [
    {
     "name": "stdout",
     "output_type": "stream",
     "text": [
      "Predicted Value for Linear Regression is :  871    0\n",
      "625    1\n",
      "916    1\n",
      "735    0\n",
      "893    0\n",
      "513    1\n",
      "726    0\n",
      "577    1\n",
      "712    1\n",
      "478    0\n",
      "Name: HeartDisease, dtype: int64\n"
     ]
    }
   ],
   "source": [
    "print('Predicted Value for Linear Regression is : ' , y_test[:10])"
   ]
  },
  {
   "cell_type": "code",
   "execution_count": null,
   "id": "3e7cfbd4-cc6f-478b-bbb8-88ce2f80dfce",
   "metadata": {},
   "outputs": [],
   "source": []
  },
  {
   "cell_type": "code",
   "execution_count": null,
   "id": "b172f12e-6039-4c73-af12-479190836915",
   "metadata": {},
   "outputs": [],
   "source": [
    "\n"
   ]
  },
  {
   "cell_type": "code",
   "execution_count": null,
   "id": "d4bc0610-b696-475b-9ee7-172796b7cb41",
   "metadata": {},
   "outputs": [],
   "source": []
  },
  {
   "cell_type": "code",
   "execution_count": null,
   "id": "29362099-d5fb-4b48-9833-0e23d9a6b32a",
   "metadata": {},
   "outputs": [],
   "source": []
  },
  {
   "cell_type": "code",
   "execution_count": null,
   "id": "a16b3297-a74a-4a05-8c03-3b92f372835b",
   "metadata": {},
   "outputs": [],
   "source": []
  },
  {
   "cell_type": "code",
   "execution_count": null,
   "id": "0beab078-7ecf-4d28-84bb-b9efc0274933",
   "metadata": {},
   "outputs": [],
   "source": []
  },
  {
   "cell_type": "code",
   "execution_count": null,
   "id": "1e102dde-3f83-4da5-a4ab-ac0ada13217a",
   "metadata": {},
   "outputs": [],
   "source": []
  },
  {
   "cell_type": "code",
   "execution_count": null,
   "id": "d79b6c9c-518b-4cf2-a187-b20c42331898",
   "metadata": {},
   "outputs": [],
   "source": []
  }
 ],
 "metadata": {
  "kernelspec": {
   "display_name": "Python 3 (ipykernel)",
   "language": "python",
   "name": "python3"
  },
  "language_info": {
   "codemirror_mode": {
    "name": "ipython",
    "version": 3
   },
   "file_extension": ".py",
   "mimetype": "text/x-python",
   "name": "python",
   "nbconvert_exporter": "python",
   "pygments_lexer": "ipython3",
   "version": "3.9.13"
  }
 },
 "nbformat": 4,
 "nbformat_minor": 5
}
